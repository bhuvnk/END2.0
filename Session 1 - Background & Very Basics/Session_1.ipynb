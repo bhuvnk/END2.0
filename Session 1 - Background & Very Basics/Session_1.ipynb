{
  "nbformat": 4,
  "nbformat_minor": 0,
  "metadata": {
    "colab": {
      "name": "END2.0 Session 1.ipynb",
      "provenance": [],
      "include_colab_link": true
    },
    "kernelspec": {
      "name": "python3",
      "display_name": "Python 3"
    },
    "language_info": {
      "name": "python"
    }
  },
  "cells": [
    {
      "cell_type": "markdown",
      "metadata": {
        "id": "view-in-github",
        "colab_type": "text"
      },
      "source": [
        "<a href=\"https://colab.research.google.com/github/bhuvnk/END2.0/blob/main/Session%201%20-%20Background%20%26%20Very%20Basics/Session_1.ipynb\" target=\"_parent\"><img src=\"https://colab.research.google.com/assets/colab-badge.svg\" alt=\"Open In Colab\"/></a>"
      ]
    },
    {
      "cell_type": "code",
      "metadata": {
        "colab": {
          "base_uri": "https://localhost:8080/"
        },
        "id": "GC_6PeobwwkH",
        "outputId": "e7424e53-a717-441e-8835-94041d8c135e"
      },
      "source": [
        "import torch\n",
        "from torch.autograd import Variable\n",
        "import torch.nn as nn\n",
        "import torch.nn.functional as F\n",
        "import torch.optim as optim\n",
        "import numpy as np\n",
        "import matplotlib.pyplot as plt\n",
        "%matplotlib inline\n",
        "torch.manual_seed(2)"
      ],
      "execution_count": 1,
      "outputs": [
        {
          "output_type": "execute_result",
          "data": {
            "text/plain": [
              "<torch._C.Generator at 0x7f5dbdfaa8d0>"
            ]
          },
          "metadata": {
            "tags": []
          },
          "execution_count": 1
        }
      ]
    },
    {
      "cell_type": "code",
      "metadata": {
        "id": "bL64bMTkw2GP"
      },
      "source": [
        "X = torch.Tensor([[0,0], [0,1], [1,0], [1,1]])\n",
        "Y = torch.Tensor([0, 1, 1, 0]).view(-1,1)"
      ],
      "execution_count": 2,
      "outputs": []
    },
    {
      "cell_type": "code",
      "metadata": {
        "id": "aC82kEAIw3Wf"
      },
      "source": [
        "class XOR(nn.Module):\n",
        "    def __init__(self, input_dim = 2, output_dim=1):\n",
        "        super(XOR, self).__init__()\n",
        "        self.lin1 = nn.Linear(input_dim, 11)\n",
        "        self.lin2 = nn.Linear(11, output_dim, bias = False)\n",
        "    \n",
        "    def forward(self, x):\n",
        "        x = self.lin1(x)\n",
        "        x = F.tanh(x)\n",
        "        x = self.lin2(x)\n",
        "        # x = F.tanh(x)\n",
        "        return x"
      ],
      "execution_count": 3,
      "outputs": []
    },
    {
      "cell_type": "code",
      "metadata": {
        "colab": {
          "base_uri": "https://localhost:8080/"
        },
        "id": "8gQIQExYw65K",
        "outputId": "6a82e25f-0fa4-40cf-a6e4-0c58ca3931d5"
      },
      "source": [
        "model = XOR()\n",
        "print(model)\n",
        "from torchsummary import summary\n",
        "summary(model, (2,2))"
      ],
      "execution_count": 4,
      "outputs": [
        {
          "output_type": "stream",
          "text": [
            "XOR(\n",
            "  (lin1): Linear(in_features=2, out_features=11, bias=True)\n",
            "  (lin2): Linear(in_features=11, out_features=1, bias=False)\n",
            ")\n",
            "----------------------------------------------------------------\n",
            "        Layer (type)               Output Shape         Param #\n",
            "================================================================\n",
            "            Linear-1                [-1, 2, 11]              33\n",
            "            Linear-2                 [-1, 2, 1]              11\n",
            "================================================================\n",
            "Total params: 44\n",
            "Trainable params: 44\n",
            "Non-trainable params: 0\n",
            "----------------------------------------------------------------\n",
            "Input size (MB): 0.00\n",
            "Forward/backward pass size (MB): 0.00\n",
            "Params size (MB): 0.00\n",
            "Estimated Total Size (MB): 0.00\n",
            "----------------------------------------------------------------\n"
          ],
          "name": "stdout"
        },
        {
          "output_type": "stream",
          "text": [
            "/usr/local/lib/python3.7/dist-packages/torch/nn/functional.py:1698: UserWarning: nn.functional.tanh is deprecated. Use torch.tanh instead.\n",
            "  warnings.warn(\"nn.functional.tanh is deprecated. Use torch.tanh instead.\")\n"
          ],
          "name": "stderr"
        }
      ]
    },
    {
      "cell_type": "code",
      "metadata": {
        "id": "yeotEq19x6XF"
      },
      "source": [
        "def weights_init(model):\n",
        "    for m in model.modules():\n",
        "        if isinstance(m, nn.Linear):\n",
        "            # initialize the weight tensor, here we use a normal distribution\n",
        "            m.weight.data.normal_(0, 1)\n",
        "\n",
        "weights_init(model)"
      ],
      "execution_count": 5,
      "outputs": []
    },
    {
      "cell_type": "code",
      "metadata": {
        "id": "WrD_sNzLx78e"
      },
      "source": [
        "loss_func = nn.L1Loss()"
      ],
      "execution_count": 6,
      "outputs": []
    },
    {
      "cell_type": "code",
      "metadata": {
        "id": "-zvbrMd2x_lA"
      },
      "source": [
        "optimizer = optim.SGD(model.parameters(), lr=0.02, momentum=0.9)\n"
      ],
      "execution_count": 7,
      "outputs": []
    },
    {
      "cell_type": "code",
      "metadata": {
        "colab": {
          "base_uri": "https://localhost:8080/"
        },
        "id": "q7tWa3D7yA5X",
        "outputId": "b0c8b040-ef1c-42e3-9825-7e02a6f5ac7a"
      },
      "source": [
        "epochs = 2001\n",
        "steps = X.size(0)\n",
        "for i in range(epochs):\n",
        "    for j in range(steps):\n",
        "        data_point = np.random.randint(X.size(0))\n",
        "        x_var = Variable(X[data_point], requires_grad=False)\n",
        "        y_var = Variable(Y[data_point], requires_grad=False)\n",
        "        \n",
        "        optimizer.zero_grad()\n",
        "        y_hat = model(x_var)\n",
        "        loss = loss_func.forward(y_hat, y_var)\n",
        "        loss.backward()\n",
        "        optimizer.step()\n",
        "        \n",
        "    if i % 50 == 0:\n",
        "        print( \"Epoch: {0}, Loss: {1}, \".format(i+1, loss.data.numpy()))"
      ],
      "execution_count": 8,
      "outputs": [
        {
          "output_type": "stream",
          "text": [
            "Epoch: 1, Loss: 0.3267843723297119, \n",
            "Epoch: 51, Loss: 0.2682432532310486, \n"
          ],
          "name": "stdout"
        },
        {
          "output_type": "stream",
          "text": [
            "/usr/local/lib/python3.7/dist-packages/torch/nn/functional.py:1698: UserWarning: nn.functional.tanh is deprecated. Use torch.tanh instead.\n",
            "  warnings.warn(\"nn.functional.tanh is deprecated. Use torch.tanh instead.\")\n"
          ],
          "name": "stderr"
        },
        {
          "output_type": "stream",
          "text": [
            "Epoch: 101, Loss: 0.12426722049713135, \n",
            "Epoch: 151, Loss: 0.5481624603271484, \n",
            "Epoch: 201, Loss: 0.38162800669670105, \n",
            "Epoch: 251, Loss: 0.016660762950778008, \n",
            "Epoch: 301, Loss: 0.48684293031692505, \n",
            "Epoch: 351, Loss: 0.17204642295837402, \n",
            "Epoch: 401, Loss: 0.08119646459817886, \n",
            "Epoch: 451, Loss: 0.3014564514160156, \n",
            "Epoch: 501, Loss: 0.07523801177740097, \n",
            "Epoch: 551, Loss: 0.05359923839569092, \n",
            "Epoch: 601, Loss: 0.20041823387145996, \n",
            "Epoch: 651, Loss: 0.11193573474884033, \n",
            "Epoch: 701, Loss: 0.40952277183532715, \n",
            "Epoch: 751, Loss: 0.2658613920211792, \n",
            "Epoch: 801, Loss: 0.470337450504303, \n",
            "Epoch: 851, Loss: 0.0261458158493042, \n",
            "Epoch: 901, Loss: 0.004430703353136778, \n",
            "Epoch: 951, Loss: 0.010775505565106869, \n",
            "Epoch: 1001, Loss: 0.07405352592468262, \n",
            "Epoch: 1051, Loss: 0.059691011905670166, \n",
            "Epoch: 1101, Loss: 0.08412861824035645, \n",
            "Epoch: 1151, Loss: 0.11599016189575195, \n",
            "Epoch: 1201, Loss: 0.43427038192749023, \n",
            "Epoch: 1251, Loss: 0.06450510025024414, \n",
            "Epoch: 1301, Loss: 0.23609161376953125, \n",
            "Epoch: 1351, Loss: 0.42191678285598755, \n",
            "Epoch: 1401, Loss: 0.00017356871103402227, \n",
            "Epoch: 1451, Loss: 0.41676759719848633, \n",
            "Epoch: 1501, Loss: 0.3927898406982422, \n",
            "Epoch: 1551, Loss: 0.1255447268486023, \n",
            "Epoch: 1601, Loss: 0.11459088325500488, \n",
            "Epoch: 1651, Loss: 0.10358726978302002, \n",
            "Epoch: 1701, Loss: 0.3663308620452881, \n",
            "Epoch: 1751, Loss: 0.1514853835105896, \n",
            "Epoch: 1801, Loss: 0.005179882049560547, \n",
            "Epoch: 1851, Loss: 0.2265317440032959, \n",
            "Epoch: 1901, Loss: 0.013926923274993896, \n",
            "Epoch: 1951, Loss: 0.02834296226501465, \n",
            "Epoch: 2001, Loss: 0.10883104801177979, \n"
          ],
          "name": "stdout"
        }
      ]
    },
    {
      "cell_type": "code",
      "metadata": {
        "id": "t6gZKGMC5i9C"
      },
      "source": [
        ""
      ],
      "execution_count": 8,
      "outputs": []
    }
  ]
}