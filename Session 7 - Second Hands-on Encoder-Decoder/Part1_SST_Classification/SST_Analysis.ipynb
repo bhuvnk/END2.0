{
  "nbformat": 4,
  "nbformat_minor": 0,
  "metadata": {
    "colab": {
      "name": "Session7_p1_SentimentAnalysis_submission.ipynb",
      "provenance": [],
      "collapsed_sections": [],
      "toc_visible": true,
      "machine_shape": "hm",
      "include_colab_link": true
    },
    "kernelspec": {
      "name": "python3",
      "display_name": "Python 3"
    },
    "language_info": {
      "name": "python"
    },
    "accelerator": "GPU"
  },
  "cells": [
    {
      "cell_type": "markdown",
      "metadata": {
        "id": "view-in-github",
        "colab_type": "text"
      },
      "source": [
        "<a href=\"https://colab.research.google.com/github/bhuvnk/END2.0/blob/main/Session%207%20-%20Second%20Hands-on%20Encoder-Decoder/Part1_SST_Classification/SST_Analysis.ipynb\" target=\"_parent\"><img src=\"https://colab.research.google.com/assets/colab-badge.svg\" alt=\"Open In Colab\"/></a>"
      ]
    },
    {
      "cell_type": "code",
      "metadata": {
        "id": "bV5C8_9DlTP1"
      },
      "source": [
        "# !nvidia-smi"
      ],
      "execution_count": null,
      "outputs": []
    },
    {
      "cell_type": "markdown",
      "metadata": {
        "id": "jfa8ZdDMDGSd"
      },
      "source": [
        "# Import Libraries"
      ]
    },
    {
      "cell_type": "code",
      "metadata": {
        "id": "XwA6ZAP0gV57",
        "colab": {
          "base_uri": "https://localhost:8080/"
        },
        "outputId": "6d537fbc-a7b0-4acf-8ce6-30d59670a24b"
      },
      "source": [
        "import pandas as pd\n",
        "import numpy as np\n",
        "import random\n",
        "import matplotlib.pyplot as plt\n",
        "import seaborn as sns\n",
        "import spacy\n",
        "\n",
        "import torch, torchtext\n",
        "from torchtext.legacy import data\n",
        "import torch.nn as nn\n",
        "import torch.nn.functional as F\n",
        "import torch.optim as optim\n",
        "\n",
        "# Manual Seed\n",
        "SEED = 69\n",
        "torch.manual_seed(SEED)"
      ],
      "execution_count": null,
      "outputs": [
        {
          "output_type": "execute_result",
          "data": {
            "text/plain": [
              "<torch._C.Generator at 0x7fce92687f90>"
            ]
          },
          "metadata": {
            "tags": []
          },
          "execution_count": 8
        }
      ]
    },
    {
      "cell_type": "code",
      "metadata": {
        "colab": {
          "base_uri": "https://localhost:8080/"
        },
        "id": "294k1CV3giS4",
        "outputId": "f9ff8674-0c54-46ee-b1ec-1b2ff409be04"
      },
      "source": [
        "device = torch.device(\"cuda\" if torch.cuda.is_available() else \"cpu\")\n",
        "print(device)"
      ],
      "execution_count": null,
      "outputs": [
        {
          "output_type": "stream",
          "text": [
            "cuda\n"
          ],
          "name": "stdout"
        }
      ]
    },
    {
      "cell_type": "markdown",
      "metadata": {
        "id": "1zOPNhy6DIYj"
      },
      "source": [
        "# Get the Data"
      ]
    },
    {
      "cell_type": "code",
      "metadata": {
        "colab": {
          "base_uri": "https://localhost:8080/"
        },
        "id": "zhdAvZnjDKR7",
        "outputId": "d8196580-19be-4a17-b3b3-36b0ed8031aa"
      },
      "source": [
        "!wget http://nlp.stanford.edu/~socherr/stanfordSentimentTreebank.zip\n",
        "!unzip -q 'stanfordSentimentTreebank.zip'"
      ],
      "execution_count": null,
      "outputs": [
        {
          "output_type": "stream",
          "text": [
            "--2021-06-25 10:52:52--  http://nlp.stanford.edu/~socherr/stanfordSentimentTreebank.zip\n",
            "Resolving nlp.stanford.edu (nlp.stanford.edu)... 171.64.67.140\n",
            "Connecting to nlp.stanford.edu (nlp.stanford.edu)|171.64.67.140|:80... connected.\n",
            "HTTP request sent, awaiting response... 302 Found\n",
            "Location: https://nlp.stanford.edu/~socherr/stanfordSentimentTreebank.zip [following]\n",
            "--2021-06-25 10:52:52--  https://nlp.stanford.edu/~socherr/stanfordSentimentTreebank.zip\n",
            "Connecting to nlp.stanford.edu (nlp.stanford.edu)|171.64.67.140|:443... connected.\n",
            "HTTP request sent, awaiting response... 200 OK\n",
            "Length: 6372817 (6.1M) [application/zip]\n",
            "Saving to: ‘stanfordSentimentTreebank.zip’\n",
            "\n",
            "stanfordSentimentTr 100%[===================>]   6.08M  7.30MB/s    in 0.8s    \n",
            "\n",
            "2021-06-25 10:52:53 (7.30 MB/s) - ‘stanfordSentimentTreebank.zip’ saved [6372817/6372817]\n",
            "\n"
          ],
          "name": "stdout"
        }
      ]
    },
    {
      "cell_type": "code",
      "metadata": {
        "id": "iXmWnv6mDKU2"
      },
      "source": [
        "PATH = '/content/stanfordSentimentTreebank'"
      ],
      "execution_count": null,
      "outputs": []
    },
    {
      "cell_type": "markdown",
      "metadata": {
        "id": "ISzA-lroPMTd"
      },
      "source": [
        "# Data Preprocessing\n",
        "\n",
        "We have 3 datasets:\n",
        "\n",
        "1. `datasetSentences.txt` : just containing the sentences(subset of phrases in `Dictionary.text`\n",
        "2. `Dictionary.text` : a mapping of a lot of `sentences`(called phrases` and their `phrase ids`\n",
        "3. `sentiment_labels.txt` has sentiment values for `phrase ids`\n",
        "\n",
        "Basically Labels are actually mapped to the Phrases and not directly to sentences; we will need to map labels to sentences but first getting `phrase ids` for each sentences.\n",
        "\n",
        "\n",
        "Combining `datasetSentences.txt`  and `dictionary.txt` will give phrase id's for the sentence data; let's call it: `sent_phrase_df`\n",
        "\n",
        "Merging `sent_phrase_df` with `sentiment_label` will give us sentiment values for each sentence. : `final_df`\n",
        "\n",
        "**Steps to follow**\n",
        "\n",
        "1. Get `phrase ids` for each sentence by inner join: {`Sent_df` and `dictionary`} | Call: `sent_phrase_df`\n",
        "2. Get sentiment values for each sentence based on `phrase ids` by left join: {`sent_phrase_df` and `sentiment_labels`} "
      ]
    },
    {
      "cell_type": "markdown",
      "metadata": {
        "id": "NnFxlowBY8K5"
      },
      "source": [
        "## Sentences + Dictionary for Phrase Ids\n",
        "\n",
        "\n",
        "\n",
        "\n"
      ]
    },
    {
      "cell_type": "code",
      "metadata": {
        "colab": {
          "base_uri": "https://localhost:8080/",
          "height": 203
        },
        "id": "ggimqGoi_BqW",
        "outputId": "b6d3d576-5456-4b89-d287-1ab0ec87943f"
      },
      "source": [
        "# Sentences contains index of the sentence and the text \n",
        "sent_df = pd.read_csv(PATH+'/datasetSentences.txt', sep = '\\t')\n",
        "sent_df.head()"
      ],
      "execution_count": null,
      "outputs": [
        {
          "output_type": "execute_result",
          "data": {
            "text/html": [
              "<div>\n",
              "<style scoped>\n",
              "    .dataframe tbody tr th:only-of-type {\n",
              "        vertical-align: middle;\n",
              "    }\n",
              "\n",
              "    .dataframe tbody tr th {\n",
              "        vertical-align: top;\n",
              "    }\n",
              "\n",
              "    .dataframe thead th {\n",
              "        text-align: right;\n",
              "    }\n",
              "</style>\n",
              "<table border=\"1\" class=\"dataframe\">\n",
              "  <thead>\n",
              "    <tr style=\"text-align: right;\">\n",
              "      <th></th>\n",
              "      <th>sentence_index</th>\n",
              "      <th>sentence</th>\n",
              "    </tr>\n",
              "  </thead>\n",
              "  <tbody>\n",
              "    <tr>\n",
              "      <th>0</th>\n",
              "      <td>1</td>\n",
              "      <td>The Rock is destined to be the 21st Century 's...</td>\n",
              "    </tr>\n",
              "    <tr>\n",
              "      <th>1</th>\n",
              "      <td>2</td>\n",
              "      <td>The gorgeously elaborate continuation of `` Th...</td>\n",
              "    </tr>\n",
              "    <tr>\n",
              "      <th>2</th>\n",
              "      <td>3</td>\n",
              "      <td>Effective but too-tepid biopic</td>\n",
              "    </tr>\n",
              "    <tr>\n",
              "      <th>3</th>\n",
              "      <td>4</td>\n",
              "      <td>If you sometimes like to go to the movies to h...</td>\n",
              "    </tr>\n",
              "    <tr>\n",
              "      <th>4</th>\n",
              "      <td>5</td>\n",
              "      <td>Emerges as something rare , an issue movie tha...</td>\n",
              "    </tr>\n",
              "  </tbody>\n",
              "</table>\n",
              "</div>"
            ],
            "text/plain": [
              "   sentence_index                                           sentence\n",
              "0               1  The Rock is destined to be the 21st Century 's...\n",
              "1               2  The gorgeously elaborate continuation of `` Th...\n",
              "2               3                     Effective but too-tepid biopic\n",
              "3               4  If you sometimes like to go to the movies to h...\n",
              "4               5  Emerges as something rare , an issue movie tha..."
            ]
          },
          "metadata": {
            "tags": []
          },
          "execution_count": 12
        }
      ]
    },
    {
      "cell_type": "code",
      "metadata": {
        "colab": {
          "base_uri": "https://localhost:8080/"
        },
        "id": "_DelWJDZTRyA",
        "outputId": "52d7a135-0eae-4160-f7fe-f5c6f47455eb"
      },
      "source": [
        "sent_df.shape\n"
      ],
      "execution_count": null,
      "outputs": [
        {
          "output_type": "execute_result",
          "data": {
            "text/plain": [
              "(11855, 2)"
            ]
          },
          "metadata": {
            "tags": []
          },
          "execution_count": 13
        }
      ]
    },
    {
      "cell_type": "code",
      "metadata": {
        "colab": {
          "base_uri": "https://localhost:8080/",
          "height": 203
        },
        "id": "CFI0AtRGEcZI",
        "outputId": "7e2906a6-ea83-4f1f-abb1-12eff7a2c6cd"
      },
      "source": [
        "# Dictionary maps the phrase texts to the phrase id\n",
        "dict_df = pd.read_csv(PATH+'/dictionary.txt', sep = '|', names =['phrase', 'phrase ids'])\n",
        "dict_df.head()"
      ],
      "execution_count": null,
      "outputs": [
        {
          "output_type": "execute_result",
          "data": {
            "text/html": [
              "<div>\n",
              "<style scoped>\n",
              "    .dataframe tbody tr th:only-of-type {\n",
              "        vertical-align: middle;\n",
              "    }\n",
              "\n",
              "    .dataframe tbody tr th {\n",
              "        vertical-align: top;\n",
              "    }\n",
              "\n",
              "    .dataframe thead th {\n",
              "        text-align: right;\n",
              "    }\n",
              "</style>\n",
              "<table border=\"1\" class=\"dataframe\">\n",
              "  <thead>\n",
              "    <tr style=\"text-align: right;\">\n",
              "      <th></th>\n",
              "      <th>phrase</th>\n",
              "      <th>phrase ids</th>\n",
              "    </tr>\n",
              "  </thead>\n",
              "  <tbody>\n",
              "    <tr>\n",
              "      <th>0</th>\n",
              "      <td>!</td>\n",
              "      <td>0</td>\n",
              "    </tr>\n",
              "    <tr>\n",
              "      <th>1</th>\n",
              "      <td>! '</td>\n",
              "      <td>22935</td>\n",
              "    </tr>\n",
              "    <tr>\n",
              "      <th>2</th>\n",
              "      <td>! ''</td>\n",
              "      <td>18235</td>\n",
              "    </tr>\n",
              "    <tr>\n",
              "      <th>3</th>\n",
              "      <td>! Alas</td>\n",
              "      <td>179257</td>\n",
              "    </tr>\n",
              "    <tr>\n",
              "      <th>4</th>\n",
              "      <td>! Brilliant</td>\n",
              "      <td>22936</td>\n",
              "    </tr>\n",
              "  </tbody>\n",
              "</table>\n",
              "</div>"
            ],
            "text/plain": [
              "        phrase  phrase ids\n",
              "0            !           0\n",
              "1          ! '       22935\n",
              "2         ! ''       18235\n",
              "3       ! Alas      179257\n",
              "4  ! Brilliant       22936"
            ]
          },
          "metadata": {
            "tags": []
          },
          "execution_count": 14
        }
      ]
    },
    {
      "cell_type": "code",
      "metadata": {
        "colab": {
          "base_uri": "https://localhost:8080/"
        },
        "id": "R5_h4SBYMHrk",
        "outputId": "7da05017-bbb0-4c8d-cfe6-d09173117224"
      },
      "source": [
        "dict_df.shape"
      ],
      "execution_count": null,
      "outputs": [
        {
          "output_type": "execute_result",
          "data": {
            "text/plain": [
              "(239232, 2)"
            ]
          },
          "metadata": {
            "tags": []
          },
          "execution_count": 15
        }
      ]
    },
    {
      "cell_type": "markdown",
      "metadata": {
        "id": "EMyhLsd7IJer"
      },
      "source": [
        "### get phrase ids of the Sentences with dictionary : on common values"
      ]
    },
    {
      "cell_type": "code",
      "metadata": {
        "colab": {
          "base_uri": "https://localhost:8080/",
          "height": 203
        },
        "id": "peCd9B_lIXUR",
        "outputId": "8eb1ac82-7947-4e95-faf2-082699ee4b38"
      },
      "source": [
        "sent_phrase_df = pd.merge(sent_df, dict_df, how= 'inner', left_on='sentence', right_on='phrase')\n",
        "sent_phrase_df.drop(columns=[\"phrase\"], inplace=True)\n",
        "sent_phrase_df.head()\n"
      ],
      "execution_count": null,
      "outputs": [
        {
          "output_type": "execute_result",
          "data": {
            "text/html": [
              "<div>\n",
              "<style scoped>\n",
              "    .dataframe tbody tr th:only-of-type {\n",
              "        vertical-align: middle;\n",
              "    }\n",
              "\n",
              "    .dataframe tbody tr th {\n",
              "        vertical-align: top;\n",
              "    }\n",
              "\n",
              "    .dataframe thead th {\n",
              "        text-align: right;\n",
              "    }\n",
              "</style>\n",
              "<table border=\"1\" class=\"dataframe\">\n",
              "  <thead>\n",
              "    <tr style=\"text-align: right;\">\n",
              "      <th></th>\n",
              "      <th>sentence_index</th>\n",
              "      <th>sentence</th>\n",
              "      <th>phrase ids</th>\n",
              "    </tr>\n",
              "  </thead>\n",
              "  <tbody>\n",
              "    <tr>\n",
              "      <th>0</th>\n",
              "      <td>1</td>\n",
              "      <td>The Rock is destined to be the 21st Century 's...</td>\n",
              "      <td>226166</td>\n",
              "    </tr>\n",
              "    <tr>\n",
              "      <th>1</th>\n",
              "      <td>2</td>\n",
              "      <td>The gorgeously elaborate continuation of `` Th...</td>\n",
              "      <td>226300</td>\n",
              "    </tr>\n",
              "    <tr>\n",
              "      <th>2</th>\n",
              "      <td>3</td>\n",
              "      <td>Effective but too-tepid biopic</td>\n",
              "      <td>13995</td>\n",
              "    </tr>\n",
              "    <tr>\n",
              "      <th>3</th>\n",
              "      <td>4</td>\n",
              "      <td>If you sometimes like to go to the movies to h...</td>\n",
              "      <td>14123</td>\n",
              "    </tr>\n",
              "    <tr>\n",
              "      <th>4</th>\n",
              "      <td>5</td>\n",
              "      <td>Emerges as something rare , an issue movie tha...</td>\n",
              "      <td>13999</td>\n",
              "    </tr>\n",
              "  </tbody>\n",
              "</table>\n",
              "</div>"
            ],
            "text/plain": [
              "   sentence_index  ... phrase ids\n",
              "0               1  ...     226166\n",
              "1               2  ...     226300\n",
              "2               3  ...      13995\n",
              "3               4  ...      14123\n",
              "4               5  ...      13999\n",
              "\n",
              "[5 rows x 3 columns]"
            ]
          },
          "metadata": {
            "tags": []
          },
          "execution_count": 16
        }
      ]
    },
    {
      "cell_type": "code",
      "metadata": {
        "colab": {
          "base_uri": "https://localhost:8080/"
        },
        "id": "Mij6fp6hImDy",
        "outputId": "a07731d0-8cde-40bc-fdc0-70258a9e04c9"
      },
      "source": [
        "sent_phrase_df.shape"
      ],
      "execution_count": null,
      "outputs": [
        {
          "output_type": "execute_result",
          "data": {
            "text/plain": [
              "(11286, 3)"
            ]
          },
          "metadata": {
            "tags": []
          },
          "execution_count": 17
        }
      ]
    },
    {
      "cell_type": "markdown",
      "metadata": {
        "id": "GjsRB5A6PIcs"
      },
      "source": [
        "Basically we have phrase id's for `11286` sentences out of `11855` sentences."
      ]
    },
    {
      "cell_type": "markdown",
      "metadata": {
        "id": "dwUkVTD7Y-R7"
      },
      "source": [
        "## Sentiment Labels\n",
        "\n",
        "`sentiment_labels.txt` has sentiment values for all phrases."
      ]
    },
    {
      "cell_type": "code",
      "metadata": {
        "colab": {
          "base_uri": "https://localhost:8080/",
          "height": 203
        },
        "id": "iIJeCQHsTZhQ",
        "outputId": "d97c2820-a2a6-41c0-89fe-eaabfafba620"
      },
      "source": [
        "# \n",
        "label_df = pd.read_csv(PATH+'/sentiment_labels.txt', sep = '|')\n",
        "label_df.head()"
      ],
      "execution_count": null,
      "outputs": [
        {
          "output_type": "execute_result",
          "data": {
            "text/html": [
              "<div>\n",
              "<style scoped>\n",
              "    .dataframe tbody tr th:only-of-type {\n",
              "        vertical-align: middle;\n",
              "    }\n",
              "\n",
              "    .dataframe tbody tr th {\n",
              "        vertical-align: top;\n",
              "    }\n",
              "\n",
              "    .dataframe thead th {\n",
              "        text-align: right;\n",
              "    }\n",
              "</style>\n",
              "<table border=\"1\" class=\"dataframe\">\n",
              "  <thead>\n",
              "    <tr style=\"text-align: right;\">\n",
              "      <th></th>\n",
              "      <th>phrase ids</th>\n",
              "      <th>sentiment values</th>\n",
              "    </tr>\n",
              "  </thead>\n",
              "  <tbody>\n",
              "    <tr>\n",
              "      <th>0</th>\n",
              "      <td>0</td>\n",
              "      <td>0.50000</td>\n",
              "    </tr>\n",
              "    <tr>\n",
              "      <th>1</th>\n",
              "      <td>1</td>\n",
              "      <td>0.50000</td>\n",
              "    </tr>\n",
              "    <tr>\n",
              "      <th>2</th>\n",
              "      <td>2</td>\n",
              "      <td>0.44444</td>\n",
              "    </tr>\n",
              "    <tr>\n",
              "      <th>3</th>\n",
              "      <td>3</td>\n",
              "      <td>0.50000</td>\n",
              "    </tr>\n",
              "    <tr>\n",
              "      <th>4</th>\n",
              "      <td>4</td>\n",
              "      <td>0.42708</td>\n",
              "    </tr>\n",
              "  </tbody>\n",
              "</table>\n",
              "</div>"
            ],
            "text/plain": [
              "   phrase ids  sentiment values\n",
              "0           0           0.50000\n",
              "1           1           0.50000\n",
              "2           2           0.44444\n",
              "3           3           0.50000\n",
              "4           4           0.42708"
            ]
          },
          "metadata": {
            "tags": []
          },
          "execution_count": 18
        }
      ]
    },
    {
      "cell_type": "code",
      "metadata": {
        "colab": {
          "base_uri": "https://localhost:8080/"
        },
        "id": "7eB9MaMYURug",
        "outputId": "cd8f2a0b-3780-4e30-e032-a7c77246a7b2"
      },
      "source": [
        "label_df.shape"
      ],
      "execution_count": null,
      "outputs": [
        {
          "output_type": "execute_result",
          "data": {
            "text/plain": [
              "(239232, 2)"
            ]
          },
          "metadata": {
            "tags": []
          },
          "execution_count": 19
        }
      ]
    },
    {
      "cell_type": "markdown",
      "metadata": {
        "id": "_i9At7bkZFn9"
      },
      "source": [
        "### merge sentiment with sentences with the phrase ids"
      ]
    },
    {
      "cell_type": "code",
      "metadata": {
        "id": "J2YC5_s2-4se",
        "colab": {
          "base_uri": "https://localhost:8080/",
          "height": 203
        },
        "outputId": "4b67210b-9484-4c8a-8f44-ec214b730b1f"
      },
      "source": [
        "final_df = pd.merge(sent_phrase_df, label_df , how = 'left', on = 'phrase ids')\n",
        "final_df.head()"
      ],
      "execution_count": null,
      "outputs": [
        {
          "output_type": "execute_result",
          "data": {
            "text/html": [
              "<div>\n",
              "<style scoped>\n",
              "    .dataframe tbody tr th:only-of-type {\n",
              "        vertical-align: middle;\n",
              "    }\n",
              "\n",
              "    .dataframe tbody tr th {\n",
              "        vertical-align: top;\n",
              "    }\n",
              "\n",
              "    .dataframe thead th {\n",
              "        text-align: right;\n",
              "    }\n",
              "</style>\n",
              "<table border=\"1\" class=\"dataframe\">\n",
              "  <thead>\n",
              "    <tr style=\"text-align: right;\">\n",
              "      <th></th>\n",
              "      <th>sentence_index</th>\n",
              "      <th>sentence</th>\n",
              "      <th>phrase ids</th>\n",
              "      <th>sentiment values</th>\n",
              "    </tr>\n",
              "  </thead>\n",
              "  <tbody>\n",
              "    <tr>\n",
              "      <th>0</th>\n",
              "      <td>1</td>\n",
              "      <td>The Rock is destined to be the 21st Century 's...</td>\n",
              "      <td>226166</td>\n",
              "      <td>0.69444</td>\n",
              "    </tr>\n",
              "    <tr>\n",
              "      <th>1</th>\n",
              "      <td>2</td>\n",
              "      <td>The gorgeously elaborate continuation of `` Th...</td>\n",
              "      <td>226300</td>\n",
              "      <td>0.83333</td>\n",
              "    </tr>\n",
              "    <tr>\n",
              "      <th>2</th>\n",
              "      <td>3</td>\n",
              "      <td>Effective but too-tepid biopic</td>\n",
              "      <td>13995</td>\n",
              "      <td>0.51389</td>\n",
              "    </tr>\n",
              "    <tr>\n",
              "      <th>3</th>\n",
              "      <td>4</td>\n",
              "      <td>If you sometimes like to go to the movies to h...</td>\n",
              "      <td>14123</td>\n",
              "      <td>0.73611</td>\n",
              "    </tr>\n",
              "    <tr>\n",
              "      <th>4</th>\n",
              "      <td>5</td>\n",
              "      <td>Emerges as something rare , an issue movie tha...</td>\n",
              "      <td>13999</td>\n",
              "      <td>0.86111</td>\n",
              "    </tr>\n",
              "  </tbody>\n",
              "</table>\n",
              "</div>"
            ],
            "text/plain": [
              "   sentence_index  ... sentiment values\n",
              "0               1  ...          0.69444\n",
              "1               2  ...          0.83333\n",
              "2               3  ...          0.51389\n",
              "3               4  ...          0.73611\n",
              "4               5  ...          0.86111\n",
              "\n",
              "[5 rows x 4 columns]"
            ]
          },
          "metadata": {
            "tags": []
          },
          "execution_count": 20
        }
      ]
    },
    {
      "cell_type": "code",
      "metadata": {
        "colab": {
          "base_uri": "https://localhost:8080/"
        },
        "id": "4aW3qf1QMYWt",
        "outputId": "0204bdd2-a5fc-4689-87eb-ae86b5cb18d4"
      },
      "source": [
        "final_df.shape"
      ],
      "execution_count": null,
      "outputs": [
        {
          "output_type": "execute_result",
          "data": {
            "text/plain": [
              "(11286, 4)"
            ]
          },
          "metadata": {
            "tags": []
          },
          "execution_count": 21
        }
      ]
    },
    {
      "cell_type": "markdown",
      "metadata": {
        "id": "GRztbRWYPgMt"
      },
      "source": [
        "## Convert floating-point labels into 5 classes (0-0.2, 0.2-0.4, 0.4-0.6, 0.6-0.8, 0.8-1.0)"
      ]
    },
    {
      "cell_type": "code",
      "metadata": {
        "colab": {
          "base_uri": "https://localhost:8080/",
          "height": 203
        },
        "id": "B9J6z1CvNy0o",
        "outputId": "46c9a03c-2f72-4638-b4cd-2f23fbe59c73"
      },
      "source": [
        "final_df['label'] = pd.cut(final_df['sentiment values'], 5, labels=False).astype(int)\n",
        "final_df.head()"
      ],
      "execution_count": null,
      "outputs": [
        {
          "output_type": "execute_result",
          "data": {
            "text/html": [
              "<div>\n",
              "<style scoped>\n",
              "    .dataframe tbody tr th:only-of-type {\n",
              "        vertical-align: middle;\n",
              "    }\n",
              "\n",
              "    .dataframe tbody tr th {\n",
              "        vertical-align: top;\n",
              "    }\n",
              "\n",
              "    .dataframe thead th {\n",
              "        text-align: right;\n",
              "    }\n",
              "</style>\n",
              "<table border=\"1\" class=\"dataframe\">\n",
              "  <thead>\n",
              "    <tr style=\"text-align: right;\">\n",
              "      <th></th>\n",
              "      <th>sentence_index</th>\n",
              "      <th>sentence</th>\n",
              "      <th>phrase ids</th>\n",
              "      <th>sentiment values</th>\n",
              "      <th>label</th>\n",
              "    </tr>\n",
              "  </thead>\n",
              "  <tbody>\n",
              "    <tr>\n",
              "      <th>0</th>\n",
              "      <td>1</td>\n",
              "      <td>The Rock is destined to be the 21st Century 's...</td>\n",
              "      <td>226166</td>\n",
              "      <td>0.69444</td>\n",
              "      <td>3</td>\n",
              "    </tr>\n",
              "    <tr>\n",
              "      <th>1</th>\n",
              "      <td>2</td>\n",
              "      <td>The gorgeously elaborate continuation of `` Th...</td>\n",
              "      <td>226300</td>\n",
              "      <td>0.83333</td>\n",
              "      <td>4</td>\n",
              "    </tr>\n",
              "    <tr>\n",
              "      <th>2</th>\n",
              "      <td>3</td>\n",
              "      <td>Effective but too-tepid biopic</td>\n",
              "      <td>13995</td>\n",
              "      <td>0.51389</td>\n",
              "      <td>2</td>\n",
              "    </tr>\n",
              "    <tr>\n",
              "      <th>3</th>\n",
              "      <td>4</td>\n",
              "      <td>If you sometimes like to go to the movies to h...</td>\n",
              "      <td>14123</td>\n",
              "      <td>0.73611</td>\n",
              "      <td>3</td>\n",
              "    </tr>\n",
              "    <tr>\n",
              "      <th>4</th>\n",
              "      <td>5</td>\n",
              "      <td>Emerges as something rare , an issue movie tha...</td>\n",
              "      <td>13999</td>\n",
              "      <td>0.86111</td>\n",
              "      <td>4</td>\n",
              "    </tr>\n",
              "  </tbody>\n",
              "</table>\n",
              "</div>"
            ],
            "text/plain": [
              "   sentence_index  ... label\n",
              "0               1  ...     3\n",
              "1               2  ...     4\n",
              "2               3  ...     2\n",
              "3               4  ...     3\n",
              "4               5  ...     4\n",
              "\n",
              "[5 rows x 5 columns]"
            ]
          },
          "metadata": {
            "tags": []
          },
          "execution_count": 22
        }
      ]
    },
    {
      "cell_type": "code",
      "metadata": {
        "colab": {
          "base_uri": "https://localhost:8080/"
        },
        "id": "UAWGjUSFOy9s",
        "outputId": "3bae8e82-0ec4-4bc5-d189-1febbfffccc5"
      },
      "source": [
        "final_df.info()"
      ],
      "execution_count": null,
      "outputs": [
        {
          "output_type": "stream",
          "text": [
            "<class 'pandas.core.frame.DataFrame'>\n",
            "Int64Index: 11286 entries, 0 to 11285\n",
            "Data columns (total 5 columns):\n",
            " #   Column            Non-Null Count  Dtype  \n",
            "---  ------            --------------  -----  \n",
            " 0   sentence_index    11286 non-null  int64  \n",
            " 1   sentence          11286 non-null  object \n",
            " 2   phrase ids        11286 non-null  int64  \n",
            " 3   sentiment values  11286 non-null  float64\n",
            " 4   label             11286 non-null  int64  \n",
            "dtypes: float64(1), int64(3), object(1)\n",
            "memory usage: 529.0+ KB\n"
          ],
          "name": "stdout"
        }
      ]
    },
    {
      "cell_type": "markdown",
      "metadata": {
        "id": "kG_KZT6NPXno"
      },
      "source": [
        "Looks clean"
      ]
    },
    {
      "cell_type": "code",
      "metadata": {
        "colab": {
          "base_uri": "https://localhost:8080/",
          "height": 282
        },
        "id": "GKBCwIwOQkwZ",
        "outputId": "d37612ca-419e-43f1-99b6-c58747638afc"
      },
      "source": [
        "final_df['label'].hist()"
      ],
      "execution_count": null,
      "outputs": [
        {
          "output_type": "execute_result",
          "data": {
            "text/plain": [
              "<matplotlib.axes._subplots.AxesSubplot at 0x7fce88949690>"
            ]
          },
          "metadata": {
            "tags": []
          },
          "execution_count": 24
        },
        {
          "output_type": "display_data",
          "data": {
            "image/png": "[encoded data removed]",
            "text/plain": [
              "<Figure size 432x288 with 1 Axes>"
            ]
          },
          "metadata": {
            "tags": [],
            "needs_background": "light"
          }
        }
      ]
    },
    {
      "cell_type": "markdown",
      "metadata": {
        "id": "SUgfDZuM0pOi"
      },
      "source": [
        "## **Create Datasets**"
      ]
    },
    {
      "cell_type": "code",
      "metadata": {
        "id": "wBwnCl821V9q"
      },
      "source": [
        "# Define Sentences and Label fields\n",
        "Sentence = data.Field(sequential = True,\n",
        "                      tokenize = 'spacy',\n",
        "                      batch_first = True,\n",
        "                      include_lengths = True)\n",
        "\n",
        "Label = data.LabelField(tokenize ='spacy',\n",
        "                        is_target = True,\n",
        "                        batch_first = True,\n",
        "                        sequential = False)\n",
        "\n",
        "# fields variable\n",
        "fields = [('sentence', Sentence),('label',Label)]\n",
        "\n",
        "# Create example variable using torch library\n",
        "example = [data.Example.fromlist([final_df.sentence.iloc[i], final_df.label.iloc[i]], fields) for i in range(final_df.shape[0])] \n",
        "\n",
        "# Compile all the training examples\n",
        "stanTreeDataset = data.Dataset(example, fields)"
      ],
      "execution_count": null,
      "outputs": []
    },
    {
      "cell_type": "markdown",
      "metadata": {
        "id": "f2VoHH45gKT0"
      },
      "source": [
        "## 70/30 train-test Split "
      ]
    },
    {
      "cell_type": "code",
      "metadata": {
        "id": "z4pUzcwQ1bRi"
      },
      "source": [
        "(train_set, valid_set) = stanTreeDataset.split(split_ratio=[0.70, 0.30],\n",
        "                                      random_state=random.seed(SEED))\n",
        "\n",
        "Sentence.build_vocab(train_set)\n",
        "Label.build_vocab(train_set)"
      ],
      "execution_count": null,
      "outputs": []
    },
    {
      "cell_type": "code",
      "metadata": {
        "colab": {
          "base_uri": "https://localhost:8080/"
        },
        "id": "LwQMYfPF1fGB",
        "outputId": "14a2344e-f54d-4347-dbf2-ce61b0b60359"
      },
      "source": [
        "(len(train_set), len(valid_set))"
      ],
      "execution_count": null,
      "outputs": [
        {
          "output_type": "execute_result",
          "data": {
            "text/plain": [
              "(7900, 3386)"
            ]
          },
          "metadata": {
            "tags": []
          },
          "execution_count": 27
        }
      ]
    },
    {
      "cell_type": "code",
      "metadata": {
        "colab": {
          "base_uri": "https://localhost:8080/"
        },
        "id": "LddtK8AX1h7-",
        "outputId": "38dc0856-5687-4f5c-a0f6-47bfc31e0fd5"
      },
      "source": [
        "print('Size of input vocab : ', len(Sentence.vocab))\n",
        "print('Size of label vocab : ', len(Label.vocab))\n",
        "print('Top 10 words appreared repeatedly :', list(Sentence.vocab.freqs.most_common(10)))\n",
        "print('Labels : ', Label.vocab.stoi)"
      ],
      "execution_count": null,
      "outputs": [
        {
          "output_type": "stream",
          "text": [
            "Size of input vocab :  16409\n",
            "Size of label vocab :  5\n",
            "Top 10 words appreared repeatedly : [('.', 7435), (',', 6461), ('the', 5418), ('and', 4024), ('a', 4005), ('of', 4004), ('to', 2800), ('-', 2533), ('is', 2341), (\"'s\", 2268)]\n",
            "Labels :  defaultdict(None, {3: 0, 1: 1, 2: 2, 4: 3, 0: 4})\n"
          ],
          "name": "stdout"
        }
      ]
    },
    {
      "cell_type": "markdown",
      "metadata": {
        "id": "j3rV7cKJgmjj"
      },
      "source": [
        "## Create Iterator variables"
      ]
    },
    {
      "cell_type": "code",
      "metadata": {
        "id": "oBz9dcf81mSR"
      },
      "source": [
        "train_iterator, valid_iterator = data.BucketIterator.splits((train_set, valid_set),\n",
        "                                                          batch_size = 32, \n",
        "                                                          sort_key = lambda x: len(x.sentence),\n",
        "                                                          sort_within_batch=True,\n",
        "                                                          device = device)"
      ],
      "execution_count": null,
      "outputs": []
    },
    {
      "cell_type": "code",
      "metadata": {
        "colab": {
          "base_uri": "https://localhost:8080/"
        },
        "id": "3EOcbV8L1ouJ",
        "outputId": "3b1a0e36-3c43-4c33-b387-30069420cc8a"
      },
      "source": [
        "next(iter(train_iterator))"
      ],
      "execution_count": null,
      "outputs": [
        {
          "output_type": "execute_result",
          "data": {
            "text/plain": [
              "\n",
              "[torchtext.legacy.data.batch.Batch of size 32]\n",
              "\t[.sentence]:('[torch.cuda.LongTensor of size 32x22 (GPU 0)]', '[torch.cuda.LongTensor of size 32 (GPU 0)]')\n",
              "\t[.label]:[torch.cuda.LongTensor of size 32 (GPU 0)]"
            ]
          },
          "metadata": {
            "tags": []
          },
          "execution_count": 30
        }
      ]
    },
    {
      "cell_type": "code",
      "metadata": {
        "id": "YspsraVl1reJ"
      },
      "source": [
        "import os, pickle\n",
        "with open('tokenizer.pkl', 'wb') as tokens: \n",
        "    pickle.dump(Sentence.vocab.stoi, tokens)"
      ],
      "execution_count": null,
      "outputs": []
    },
    {
      "cell_type": "markdown",
      "metadata": {
        "id": "oNu49KiUAFuL"
      },
      "source": [
        "# **Model Architecture**"
      ]
    },
    {
      "cell_type": "code",
      "metadata": {
        "id": "r7YOPNmaAJRo"
      },
      "source": [
        "class classifier(nn.Module):\n",
        "    \n",
        "    # Define all the layers used in model\n",
        "    def __init__(self, vocab_size, embedding_dim, hidden_dim, output_dim, n_layers, dropout):\n",
        "        \n",
        "        super().__init__()          \n",
        "        \n",
        "        # Embedding layer\n",
        "        self.embedding = nn.Embedding(vocab_size, embedding_dim)\n",
        "        \n",
        "        # LSTM layer\n",
        "        self.encoder = nn.LSTM(embedding_dim, \n",
        "                           hidden_dim, \n",
        "                           num_layers=n_layers,\n",
        "                           bidirectional=True, \n",
        "                           dropout=dropout,\n",
        "                           batch_first=True)\n",
        "        self.dropout = nn.Dropout(dropout)\n",
        "        \n",
        "        # Dense layer\n",
        "        self.fc = nn.Linear(hidden_dim, output_dim)\n",
        "        \n",
        "    def forward(self, text, text_lengths):\n",
        "        \n",
        "        # text = [batch size, sent_length]\n",
        "        embedded = self.dropout(self.embedding(text))\n",
        "        # embedded = [batch size, sent_len, emb dim]\n",
        "      \n",
        "        # packed sequence\n",
        "        packed_embedded = nn.utils.rnn.pack_padded_sequence(embedded, text_lengths.cpu(), batch_first=True)\n",
        "        \n",
        "        packed_output, (hidden, cell) = self.encoder(packed_embedded)\n",
        "        #hidden = [batch size, num layers * num directions,hid dim]\n",
        "        #cell = [batch size, num layers * num directions,hid dim]\n",
        "    \n",
        "        # Hidden = [batch size, hid dim * num directions]\n",
        "        dense_outputs = self.fc(hidden)   \n",
        "        \n",
        "        # Final activation function softmax\n",
        "        output = F.softmax(dense_outputs[0], dim=1)\n",
        "            \n",
        "        return output"
      ],
      "execution_count": null,
      "outputs": []
    },
    {
      "cell_type": "code",
      "metadata": {
        "id": "ZAq5sCSvAKd1"
      },
      "source": [
        "# Define hyperparameters\n",
        "size_of_vocab = len(Sentence.vocab)\n",
        "embedding_dim = 256\n",
        "num_hidden_nodes = 128\n",
        "num_output_nodes = len(final_df.label.unique())\n",
        "num_layers = 2\n",
        "dropout = 0.5\n",
        "\n",
        "# Instantiate the model\n",
        "model = classifier(size_of_vocab,\n",
        "                   embedding_dim,\n",
        "                   num_hidden_nodes,\n",
        "                   num_output_nodes,\n",
        "                   num_layers,\n",
        "                   dropout = dropout)"
      ],
      "execution_count": null,
      "outputs": []
    },
    {
      "cell_type": "code",
      "metadata": {
        "colab": {
          "base_uri": "https://localhost:8080/"
        },
        "id": "NgG8C_bFAMkl",
        "outputId": "5bbfac7f-4f55-4a28-ab7b-cf73b70d77b9"
      },
      "source": [
        "print(model)\n",
        "\n",
        "# No. of trainable parameters\n",
        "def count_parameters(model):\n",
        "    return sum(p.numel() for p in model.parameters() if p.requires_grad)\n",
        "    \n",
        "print(f'The model has {count_parameters(model):,} trainable parameters')"
      ],
      "execution_count": null,
      "outputs": [
        {
          "output_type": "stream",
          "text": [
            "classifier(\n",
            "  (embedding): Embedding(16409, 256)\n",
            "  (encoder): LSTM(256, 128, num_layers=2, batch_first=True, dropout=0.5, bidirectional=True)\n",
            "  (dropout): Dropout(p=0.5, inplace=False)\n",
            "  (fc): Linear(in_features=128, out_features=5, bias=True)\n",
            ")\n",
            "The model has 4,991,877 trainable parameters\n"
          ],
          "name": "stdout"
        }
      ]
    },
    {
      "cell_type": "code",
      "metadata": {
        "id": "MdqBf8dDAN-l"
      },
      "source": [
        "# define optimizer and loss\n",
        "optimizer = optim.Adam(model.parameters(), lr=2e-4)\n",
        "criterion = nn.CrossEntropyLoss()\n",
        "\n",
        "# define metric\n",
        "def binary_accuracy(preds, y):\n",
        "    #round predictions to the closest integer\n",
        "    _, predictions = torch.max(preds, 1)\n",
        "    \n",
        "    correct = (predictions == y).float() \n",
        "    acc = correct.sum() / len(correct)\n",
        "    return acc\n",
        "    \n",
        "# push to cuda if available\n",
        "model = model.to(device)\n",
        "criterion = criterion.to(device)"
      ],
      "execution_count": null,
      "outputs": []
    },
    {
      "cell_type": "markdown",
      "metadata": {
        "id": "7MOMojDwASLh"
      },
      "source": [
        "# **Training & Evaluation Functions**"
      ]
    },
    {
      "cell_type": "code",
      "metadata": {
        "id": "CmmzRJBKAWAJ"
      },
      "source": [
        "def train(model, iterator, optimizer, criterion):\n",
        "    \n",
        "    # initialize every epoch \n",
        "    epoch_loss = 0\n",
        "    epoch_acc = 0\n",
        "    \n",
        "    # set the model in training phase\n",
        "    model.train()  \n",
        "    \n",
        "    for batch in iterator:\n",
        "        \n",
        "        # resets the gradients after every batch\n",
        "        optimizer.zero_grad()   \n",
        "        \n",
        "        # retrieve text and no. of words\n",
        "        sentence, sentence_lengths = batch.sentence\n",
        "        \n",
        "        # convert to 1D tensor\n",
        "        predictions = model(sentence, sentence_lengths).squeeze()  \n",
        "\n",
        "        # compute the loss\n",
        "        loss = criterion(predictions, batch.label)        \n",
        "        \n",
        "        # compute the binary accuracy\n",
        "        acc = binary_accuracy(predictions, batch.label)   \n",
        "        \n",
        "        # backpropage the loss and compute the gradients\n",
        "        loss.backward()       \n",
        "        \n",
        "        # update the weights\n",
        "        optimizer.step()      \n",
        "        \n",
        "        # loss and accuracy\n",
        "        epoch_loss += loss.item()  \n",
        "        epoch_acc += acc.item()    \n",
        "        \n",
        "    return epoch_loss / len(iterator), epoch_acc / len(iterator)"
      ],
      "execution_count": null,
      "outputs": []
    },
    {
      "cell_type": "code",
      "metadata": {
        "id": "TM5cNegKAWyF"
      },
      "source": [
        "def evaluate(model, iterator, criterion):\n",
        "    \n",
        "    # initialize every epoch\n",
        "    epoch_loss = 0\n",
        "    epoch_acc = 0\n",
        "\n",
        "    # deactivating dropout layers\n",
        "    model.eval()\n",
        "    \n",
        "    # deactivates autograd\n",
        "    with torch.no_grad():\n",
        "    \n",
        "        for batch in iterator:\n",
        "        \n",
        "            # retrieve text and no. of words\n",
        "            sentence, sentence_lengths = batch.sentence\n",
        "            \n",
        "            # convert to 1d tensor\n",
        "            predictions = model(sentence, sentence_lengths).squeeze()\n",
        "            \n",
        "            # compute loss and accuracy\n",
        "            loss = criterion(predictions, batch.label)\n",
        "            acc = binary_accuracy(predictions, batch.label)\n",
        "            \n",
        "            # keep track of loss and accuracy\n",
        "            epoch_loss += loss.item()\n",
        "            epoch_acc += acc.item()\n",
        "        \n",
        "    return epoch_loss / len(iterator), epoch_acc / len(iterator)"
      ],
      "execution_count": null,
      "outputs": []
    },
    {
      "cell_type": "markdown",
      "metadata": {
        "id": "-5W0MdoMlFMf"
      },
      "source": [
        "# **Model Training**"
      ]
    },
    {
      "cell_type": "code",
      "metadata": {
        "colab": {
          "base_uri": "https://localhost:8080/"
        },
        "id": "u6xxtUijAjEo",
        "outputId": "6f254d32-01e5-4c27-a58d-c54d5b2d604e"
      },
      "source": [
        "N_EPOCHS = 50\n",
        "best_valid_loss = float('inf')\n",
        "\n",
        "train_losses = []\n",
        "valid_losses = []\n",
        "train_accuracy = []\n",
        "valid_accuracy = []\n",
        "\n",
        "for epoch in range(N_EPOCHS):\n",
        "     \n",
        "    # train the model\n",
        "    train_loss, train_acc = train(model, train_iterator, optimizer, criterion)\n",
        "\n",
        "    # evaluate the model\n",
        "    valid_loss, valid_acc = evaluate(model, valid_iterator, criterion)\n",
        "    \n",
        "    # save the best model\n",
        "    if valid_loss < best_valid_loss:\n",
        "        best_valid_loss = valid_loss\n",
        "        torch.save(model.state_dict(), 'saved_weights.pt')\n",
        "\n",
        "    train_accuracy.append(train_acc)\n",
        "    train_losses.append(train_loss)\n",
        "\n",
        "    valid_accuracy.append(valid_acc)\n",
        "    valid_losses.append(valid_loss)\n",
        "\n",
        "    print(f'\\tEpoch: {epoch} | Train Loss: {train_loss:.3f} | Train Acc: {train_acc*100:.2f}%')\n",
        "    print(f'\\t Val. Loss: {valid_loss:.3f} |  Val. Acc: {valid_acc*100:.2f}% \\n')"
      ],
      "execution_count": null,
      "outputs": [
        {
          "output_type": "stream",
          "text": [
            "\tEpoch: 0 | Train Loss: 1.586 | Train Acc: 25.94%\n",
            "\t Val. Loss: 1.577 |  Val. Acc: 26.99% \n",
            "\n",
            "\tEpoch: 1 | Train Loss: 1.576 | Train Acc: 27.42%\n",
            "\t Val. Loss: 1.575 |  Val. Acc: 27.58% \n",
            "\n",
            "\tEpoch: 2 | Train Loss: 1.573 | Train Acc: 28.85%\n",
            "\t Val. Loss: 1.574 |  Val. Acc: 27.58% \n",
            "\n",
            "\tEpoch: 3 | Train Loss: 1.566 | Train Acc: 30.80%\n",
            "\t Val. Loss: 1.573 |  Val. Acc: 29.40% \n",
            "\n",
            "\tEpoch: 4 | Train Loss: 1.551 | Train Acc: 33.74%\n",
            "\t Val. Loss: 1.568 |  Val. Acc: 31.35% \n",
            "\n",
            "\tEpoch: 5 | Train Loss: 1.537 | Train Acc: 34.97%\n",
            "\t Val. Loss: 1.565 |  Val. Acc: 32.45% \n",
            "\n",
            "\tEpoch: 6 | Train Loss: 1.527 | Train Acc: 36.11%\n",
            "\t Val. Loss: 1.569 |  Val. Acc: 32.50% \n",
            "\n",
            "\tEpoch: 7 | Train Loss: 1.518 | Train Acc: 37.16%\n",
            "\t Val. Loss: 1.550 |  Val. Acc: 34.11% \n",
            "\n",
            "\tEpoch: 8 | Train Loss: 1.508 | Train Acc: 38.06%\n",
            "\t Val. Loss: 1.549 |  Val. Acc: 34.47% \n",
            "\n",
            "\tEpoch: 9 | Train Loss: 1.500 | Train Acc: 39.24%\n",
            "\t Val. Loss: 1.553 |  Val. Acc: 34.17% \n",
            "\n",
            "\tEpoch: 10 | Train Loss: 1.491 | Train Acc: 39.94%\n",
            "\t Val. Loss: 1.539 |  Val. Acc: 35.15% \n",
            "\n",
            "\tEpoch: 11 | Train Loss: 1.484 | Train Acc: 40.61%\n",
            "\t Val. Loss: 1.546 |  Val. Acc: 34.11% \n",
            "\n",
            "\tEpoch: 12 | Train Loss: 1.474 | Train Acc: 41.84%\n",
            "\t Val. Loss: 1.540 |  Val. Acc: 35.38% \n",
            "\n",
            "\tEpoch: 13 | Train Loss: 1.465 | Train Acc: 42.89%\n",
            "\t Val. Loss: 1.545 |  Val. Acc: 34.87% \n",
            "\n",
            "\tEpoch: 14 | Train Loss: 1.457 | Train Acc: 43.58%\n",
            "\t Val. Loss: 1.538 |  Val. Acc: 35.40% \n",
            "\n",
            "\tEpoch: 15 | Train Loss: 1.452 | Train Acc: 44.52%\n",
            "\t Val. Loss: 1.528 |  Val. Acc: 36.16% \n",
            "\n",
            "\tEpoch: 16 | Train Loss: 1.444 | Train Acc: 45.14%\n",
            "\t Val. Loss: 1.531 |  Val. Acc: 36.38% \n",
            "\n",
            "\tEpoch: 17 | Train Loss: 1.440 | Train Acc: 45.65%\n",
            "\t Val. Loss: 1.528 |  Val. Acc: 36.57% \n",
            "\n",
            "\tEpoch: 18 | Train Loss: 1.436 | Train Acc: 45.79%\n",
            "\t Val. Loss: 1.525 |  Val. Acc: 36.84% \n",
            "\n",
            "\tEpoch: 19 | Train Loss: 1.426 | Train Acc: 47.28%\n",
            "\t Val. Loss: 1.524 |  Val. Acc: 36.91% \n",
            "\n",
            "\tEpoch: 20 | Train Loss: 1.424 | Train Acc: 46.85%\n",
            "\t Val. Loss: 1.532 |  Val. Acc: 36.33% \n",
            "\n",
            "\tEpoch: 21 | Train Loss: 1.414 | Train Acc: 48.44%\n",
            "\t Val. Loss: 1.527 |  Val. Acc: 36.67% \n",
            "\n",
            "\tEpoch: 22 | Train Loss: 1.409 | Train Acc: 48.98%\n",
            "\t Val. Loss: 1.527 |  Val. Acc: 37.06% \n",
            "\n",
            "\tEpoch: 23 | Train Loss: 1.403 | Train Acc: 49.95%\n",
            "\t Val. Loss: 1.529 |  Val. Acc: 36.24% \n",
            "\n",
            "\tEpoch: 24 | Train Loss: 1.397 | Train Acc: 50.27%\n",
            "\t Val. Loss: 1.527 |  Val. Acc: 36.73% \n",
            "\n",
            "\tEpoch: 25 | Train Loss: 1.388 | Train Acc: 51.19%\n",
            "\t Val. Loss: 1.530 |  Val. Acc: 36.27% \n",
            "\n",
            "\tEpoch: 26 | Train Loss: 1.383 | Train Acc: 51.91%\n",
            "\t Val. Loss: 1.530 |  Val. Acc: 36.41% \n",
            "\n",
            "\tEpoch: 27 | Train Loss: 1.380 | Train Acc: 52.37%\n",
            "\t Val. Loss: 1.531 |  Val. Acc: 36.16% \n",
            "\n",
            "\tEpoch: 28 | Train Loss: 1.375 | Train Acc: 53.00%\n",
            "\t Val. Loss: 1.527 |  Val. Acc: 36.83% \n",
            "\n",
            "\tEpoch: 29 | Train Loss: 1.367 | Train Acc: 53.41%\n",
            "\t Val. Loss: 1.536 |  Val. Acc: 35.65% \n",
            "\n",
            "\tEpoch: 30 | Train Loss: 1.369 | Train Acc: 53.14%\n",
            "\t Val. Loss: 1.527 |  Val. Acc: 36.54% \n",
            "\n",
            "\tEpoch: 31 | Train Loss: 1.365 | Train Acc: 53.67%\n",
            "\t Val. Loss: 1.523 |  Val. Acc: 37.32% \n",
            "\n",
            "\tEpoch: 32 | Train Loss: 1.359 | Train Acc: 54.13%\n",
            "\t Val. Loss: 1.524 |  Val. Acc: 37.30% \n",
            "\n",
            "\tEpoch: 33 | Train Loss: 1.357 | Train Acc: 54.61%\n",
            "\t Val. Loss: 1.525 |  Val. Acc: 37.11% \n",
            "\n",
            "\tEpoch: 34 | Train Loss: 1.347 | Train Acc: 55.71%\n",
            "\t Val. Loss: 1.526 |  Val. Acc: 36.98% \n",
            "\n",
            "\tEpoch: 35 | Train Loss: 1.346 | Train Acc: 56.01%\n",
            "\t Val. Loss: 1.526 |  Val. Acc: 36.96% \n",
            "\n",
            "\tEpoch: 36 | Train Loss: 1.343 | Train Acc: 55.88%\n",
            "\t Val. Loss: 1.524 |  Val. Acc: 37.11% \n",
            "\n",
            "\tEpoch: 37 | Train Loss: 1.339 | Train Acc: 56.69%\n",
            "\t Val. Loss: 1.524 |  Val. Acc: 36.96% \n",
            "\n",
            "\tEpoch: 38 | Train Loss: 1.330 | Train Acc: 57.50%\n",
            "\t Val. Loss: 1.523 |  Val. Acc: 37.16% \n",
            "\n",
            "\tEpoch: 39 | Train Loss: 1.326 | Train Acc: 57.66%\n",
            "\t Val. Loss: 1.524 |  Val. Acc: 36.63% \n",
            "\n",
            "\tEpoch: 40 | Train Loss: 1.320 | Train Acc: 58.56%\n",
            "\t Val. Loss: 1.524 |  Val. Acc: 37.06% \n",
            "\n",
            "\tEpoch: 41 | Train Loss: 1.318 | Train Acc: 58.62%\n",
            "\t Val. Loss: 1.525 |  Val. Acc: 37.01% \n",
            "\n",
            "\tEpoch: 42 | Train Loss: 1.314 | Train Acc: 58.89%\n",
            "\t Val. Loss: 1.523 |  Val. Acc: 36.57% \n",
            "\n",
            "\tEpoch: 43 | Train Loss: 1.313 | Train Acc: 59.31%\n",
            "\t Val. Loss: 1.528 |  Val. Acc: 36.63% \n",
            "\n",
            "\tEpoch: 44 | Train Loss: 1.314 | Train Acc: 58.95%\n",
            "\t Val. Loss: 1.526 |  Val. Acc: 36.54% \n",
            "\n",
            "\tEpoch: 45 | Train Loss: 1.307 | Train Acc: 59.81%\n",
            "\t Val. Loss: 1.518 |  Val. Acc: 37.70% \n",
            "\n",
            "\tEpoch: 46 | Train Loss: 1.301 | Train Acc: 60.17%\n",
            "\t Val. Loss: 1.525 |  Val. Acc: 36.72% \n",
            "\n",
            "\tEpoch: 47 | Train Loss: 1.295 | Train Acc: 61.06%\n",
            "\t Val. Loss: 1.526 |  Val. Acc: 37.03% \n",
            "\n",
            "\tEpoch: 48 | Train Loss: 1.297 | Train Acc: 60.85%\n",
            "\t Val. Loss: 1.524 |  Val. Acc: 36.94% \n",
            "\n",
            "\tEpoch: 49 | Train Loss: 1.293 | Train Acc: 61.00%\n",
            "\t Val. Loss: 1.516 |  Val. Acc: 37.82% \n",
            "\n"
          ],
          "name": "stdout"
        }
      ]
    },
    {
      "cell_type": "markdown",
      "metadata": {
        "id": "4Rmp0uwfsAWM"
      },
      "source": [
        "# Training plots"
      ]
    },
    {
      "cell_type": "code",
      "metadata": {
        "colab": {
          "base_uri": "https://localhost:8080/",
          "height": 624
        },
        "id": "AmGTbKzJqpeu",
        "outputId": "aed8967e-5344-4b95-bbf5-15e82b4cc141"
      },
      "source": [
        "fig, axs = plt.subplots(1, 2, figsize=(15,10))\n",
        "\n",
        "axs[0].plot(valid_accuracy, '-r', label='valid acc')\n",
        "axs[0].plot(train_accuracy, '-b', label='train acc')\n",
        "axs[0].legend(loc = \"upper right\")\n",
        "axs[0].set_title(\"Accuracy\")\n",
        "\n",
        "axs[1].plot(valid_losses, 'r', label='valid loss')\n",
        "axs[1].plot(train_losses, 'b', label='train loss')\n",
        "axs[1].legend(loc = \"upper right\")\n",
        "axs[1].set_title(\"Loss\")"
      ],
      "execution_count": null,
      "outputs": [
        {
          "output_type": "execute_result",
          "data": {
            "text/plain": [
              "Text(0.5, 1.0, 'Loss')"
            ]
          },
          "metadata": {
            "tags": []
          },
          "execution_count": 39
        },
        {
          "output_type": "display_data",
          "data": {
            "image/png": "[encoded data removed]",
            "text/plain": [
              "<Figure size 1080x720 with 2 Axes>"
            ]
          },
          "metadata": {
            "tags": [],
            "needs_background": "light"
          }
        }
      ]
    },
    {
      "cell_type": "markdown",
      "metadata": {
        "id": "ruNycfRxkzD7"
      },
      "source": [
        "# Making a few Sample predictions"
      ]
    },
    {
      "cell_type": "code",
      "metadata": {
        "id": "e9JkqMp9Ak70"
      },
      "source": [
        "# load weights and tokenizer\n",
        "\n",
        "path='./saved_weights.pt'\n",
        "model.load_state_dict(torch.load(path));\n",
        "model.eval();\n",
        "tokenizer_file = open('./tokenizer.pkl', 'rb')\n",
        "tokenizer = pickle.load(tokenizer_file)\n",
        "\n",
        "# inference \n",
        "\n",
        "nlp = spacy.load('en')\n",
        "\n",
        "def classify_sentence(sentence):\n",
        "        \n",
        "    # tokenize the sentence \n",
        "    tokenized = [tok.text for tok in nlp.tokenizer(sentence)] \n",
        "    # convert to integer sequence using predefined tokenizer dictionary\n",
        "    indexed = [tokenizer[t] for t in tokenized]        \n",
        "    # compute no. of words        \n",
        "    length = [len(indexed)]\n",
        "    # convert to tensor                                    \n",
        "    tensor = torch.LongTensor(indexed).to(device)   \n",
        "    # reshape in form of batch, no. of words           \n",
        "    tensor = tensor.unsqueeze(1).T  \n",
        "    # convert to tensor                          \n",
        "    length_tensor = torch.LongTensor(length)\n",
        "    # Get the model prediction                  \n",
        "    prediction = model(tensor, length_tensor)\n",
        "\n",
        "    _, pred = torch.max(prediction, 1) \n",
        "    \n",
        "    #return categories[pred.item()]\n",
        "    return pred.item()"
      ],
      "execution_count": null,
      "outputs": []
    },
    {
      "cell_type": "code",
      "metadata": {
        "colab": {
          "base_uri": "https://localhost:8080/"
        },
        "id": "ZREysWP6UAvH",
        "outputId": "868a0a38-db10-4e40-94cb-ca06c8bb5335"
      },
      "source": [
        "label_dict = {0 : 'very negative',\n",
        "              1 : 'negative',\n",
        "              2 : 'neutral',\n",
        "              3 : 'positive',\n",
        "              4 : 'very positive'}\n",
        "\n",
        "# Print 10 samples from the test dataset\n",
        "\n",
        "for i in range(10):\n",
        "  print(\"Sentence : \", ' '.join(valid_set.examples[i].sentence))\n",
        "  pred = classify_sentence(' '.join(valid_set.examples[i].sentence))\n",
        "  print(f\"Predicted : {label_dict[pred]}\")\n",
        "  print(f\"Target : {label_dict[valid_set.examples[i].label]}\\n\")"
      ],
      "execution_count": null,
      "outputs": [
        {
          "output_type": "stream",
          "text": [
            "Sentence :  The pleasures that it does afford may be enough to keep many moviegoers occupied amidst some of the more serious - minded concerns of other year - end movies .\n",
            "Predicted : neutral\n",
            "Target : positive\n",
            "\n",
            "Sentence :  The power of this script , and the performances that come with it , is that the whole damned thing did n't get our moral hackles up .\n",
            "Predicted : very negative\n",
            "Target : neutral\n",
            "\n",
            "Sentence :  The isolated moments of creative insanity finally are lost in the thin soup of canned humor .\n",
            "Predicted : very negative\n",
            "Target : neutral\n",
            "\n",
            "Sentence :  Poetry in motion captured on film .\n",
            "Predicted : positive\n",
            "Target : very positive\n",
            "\n",
            "Sentence :  I like the new footage and still love the old stuff .\n",
            "Predicted : very negative\n",
            "Target : very positive\n",
            "\n",
            "Sentence :  Nemesis suffers from a paunchy midsection , several plodding action sequences and a wickedly undramatic central theme .\n",
            "Predicted : negative\n",
            "Target : negative\n",
            "\n",
            "Sentence :  Few of the increasingly far - fetched events that first - time writer - director Neil Burger follows up with are terribly convincing , which is a pity , considering Barry 's terrific performance .\n",
            "Predicted : very negative\n",
            "Target : neutral\n",
            "\n",
            "Sentence :  Though few will argue that it ranks with the best of Herzog 's works , Invincible shows he 's back in form , with an astoundingly rich film .\n",
            "Predicted : very negative\n",
            "Target : very positive\n",
            "\n",
            "Sentence :  Even if it ultimately disappoints , the picture does have about a matinee admission 's worth of funny to keep it afloat .\n",
            "Predicted : very negative\n",
            "Target : neutral\n",
            "\n",
            "Sentence :  A marvel like none you ' ve seen .\n",
            "Predicted : negative\n",
            "Target : positive\n",
            "\n"
          ],
          "name": "stdout"
        }
      ]
    },
    {
      "cell_type": "code",
      "metadata": {
        "id": "zCWcojX5SuC-"
      },
      "source": [
        ""
      ],
      "execution_count": null,
      "outputs": []
    }
  ]
}